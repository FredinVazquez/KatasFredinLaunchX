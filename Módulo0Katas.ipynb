{
 "cells": [
  {
   "cell_type": "markdown",
   "metadata": {},
   "source": [
    "# Manual de la Nave "
   ]
  },
  {
   "cell_type": "code",
   "execution_count": 3,
   "metadata": {},
   "outputs": [
    {
     "data": {
      "application/vnd.jupyter.widget-view+json": {
       "model_id": "dcd33ca494da47098c791eeb5da12bdd",
       "version_major": 2,
       "version_minor": 0
      },
      "text/plain": [
       "ToggleButton(value=False, button_style='success', description='Iniciar lanzamiento', icon='space-shuttle', too…"
      ]
     },
     "metadata": {},
     "output_type": "display_data"
    },
    {
     "data": {
      "application/vnd.jupyter.widget-view+json": {
       "model_id": "5f0e9109e72343359968531568474a7a",
       "version_major": 2,
       "version_minor": 0
      },
      "text/plain": [
       "Output()"
      ]
     },
     "metadata": {},
     "output_type": "display_data"
    }
   ],
   "source": [
    "# Se va a importar el widget\n",
    "import ipywidgets as widgets\n",
    "\n",
    "boton = widgets.ToggleButton(\n",
    "    value = False,\n",
    "    description = 'Iniciar lanzamiento',    # Nombre que tendrá en el botón\n",
    "    button_style = 'success',           # Estilo\n",
    "    tooltip = 'Engage your Launch',     # Funcionamiento\n",
    "    icon = 'space-shuttle'              # Icono utilizado\n",
    ")\n",
    "\n",
    "salida = widgets.Output()               # Obteniendo la salida\n",
    "\n",
    "display(boton,salida)                   # Es para mostrar el widget de forma explícita \n",
    "\n",
    "# Función\n",
    "def on_value_change(change):            # Función cuando un ocurra un cambio, como una especie de evento.\n",
    "    with salida:\n",
    "        if change['new'] == True:       # Si hay un cambio nuevo y este es True (click para activar) se inicia la nave\n",
    "            print(\"Nave iniciada\")\n",
    "        else:\n",
    "            print(\"Nave detenida\")\n",
    "\n",
    "boton.observe(on_value_change,names='value')\n",
    "    "
   ]
  },
  {
   "cell_type": "markdown",
   "metadata": {},
   "source": [
    "## Niveles de Oxígeno\n",
    "Muestra 50 minutos de oxígeno de la nave. "
   ]
  },
  {
   "cell_type": "code",
   "execution_count": 4,
   "metadata": {},
   "outputs": [
    {
     "data": {
      "text/plain": [
       "<matplotlib.pyplot._IonContext at 0x19b482001c0>"
      ]
     },
     "execution_count": 4,
     "metadata": {},
     "output_type": "execute_result"
    },
    {
     "data": {
      "image/png": "[encoded data removed]",
      "text/plain": [
       "<Figure size 432x288 with 1 Axes>"
      ]
     },
     "metadata": {
      "needs_background": "light"
     },
     "output_type": "display_data"
    }
   ],
   "source": [
    "## Implementación de las gráficas - Se realiza la importación de las bibliotecas instaladas\n",
    "import numpy as np              ## as _nombre_ con las convenciones para los modulos\n",
    "import matplotlib.pyplot as plt\n",
    "\n",
    "# Generación de datos aleatorios por medio de numpy random\n",
    "data = np.random.default_rng(1000) \n",
    "oxy_nums = data.integers(low=0,high=100,size=50)\n",
    "\n",
    "# Generación del gráfico de barras - Se pasa como parámetros los datos anteriores\n",
    "plt.bar(range(len(oxy_nums)), oxy_nums)\n",
    "# Hay dos formas para mostrar el gráfica, la primera es usando plt.show - Esta forma no termina la ejecución del programa hasta cerrar la gráfica\n",
    "# La segunda forma para mostrar la grafica y que termina la ejecución sin la necesidad de cerrar el gráfica es: plt.ion().\n",
    "plt.ion() "
   ]
  },
  {
   "cell_type": "markdown",
   "metadata": {},
   "source": [
    "## Velocidad de la nave\n",
    "Muestra los segundos necesarios para pasar de 0 a 26500 metros por segundo, dada la aceleración de la nave en metros por segundo."
   ]
  },
  {
   "cell_type": "code",
   "execution_count": 5,
   "metadata": {},
   "outputs": [
    {
     "name": "stdout",
     "output_type": "stream",
     "text": [
      "2704.081632653061\n"
     ]
    }
   ],
   "source": [
    "velocidadInicial = 0\n",
    "velocidadFinal = 26500\n",
    "aceleracion = 9.8       # La gravedad realmente.\n",
    "\n",
    "# Ecuación - El tiempo devuelto será en segundos debido a todas las unidades fueron dadas en segundos y simplifcando queda en segundos.\n",
    "tiempo = (velocidadFinal-velocidadInicial)/aceleracion\n",
    "print(tiempo) "
   ]
  }
 ],
 "metadata": {
  "interpreter": {
   "hash": "f0a8ca1b1324573d7b9c7247f92177669f6f55c0b2d917412ca0894f2d26eb46"
  },
  "kernelspec": {
   "display_name": "Python 3.9.10 64-bit (windows store)",
   "language": "python",
   "name": "python3"
  },
  "language_info": {
   "codemirror_mode": {
    "name": "ipython",
    "version": 3
   },
   "file_extension": ".py",
   "mimetype": "text/x-python",
   "name": "python",
   "nbconvert_exporter": "python",
   "pygments_lexer": "ipython3",
   "version": "3.9.10"
  },
  "orig_nbformat": 4
 },
 "nbformat": 4,
 "nbformat_minor": 2
}
