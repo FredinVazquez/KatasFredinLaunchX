{
 "cells": [
  {
   "cell_type": "code",
   "execution_count": 9,
   "metadata": {},
   "outputs": [
    {
     "name": "stdout",
     "output_type": "stream",
     "text": [
      "El valor de 'b' es 0\n",
      "10\n",
      "0\n",
      "El número más grande es el 'c'\n"
     ]
    }
   ],
   "source": [
    "a=10\n",
    "b=0\n",
    "if(a<b):\n",
    "    print(b)\n",
    "elif a==b:\n",
    "    print(\"Ambos valores son iguales\")\n",
    "elif a==0:\n",
    "    print(\"El valor de 'a' es 0\")\n",
    "elif b==0:\n",
    "    print(\"El valor de 'b' es 0\")\n",
    "else:\n",
    "    print(\"Fue mayor la variable 'a': \",a)\n",
    "\n",
    "# Ahora, si la condición es al revés:\n",
    "if a>=b:\n",
    "    print(a)\n",
    "print(b)\n",
    "\n",
    "c=125\n",
    "if b>a:\n",
    "    if b>c:\n",
    "        print(\"El número más grande es el 'b'\")\n",
    "    else:\n",
    "        print(\"El número más grande es el 'c'\")\n",
    "elif a>b:\n",
    "    if a>c:\n",
    "        print(\"El número más grande es el 'b'\")\n",
    "    else:\n",
    "        print(\"El número más grande es el 'c'\")\n",
    "else:\n",
    "    print(\"El número más grande es el 'c'\")\n"
   ]
  }
 ],
 "metadata": {
  "interpreter": {
   "hash": "f0a8ca1b1324573d7b9c7247f92177669f6f55c0b2d917412ca0894f2d26eb46"
  },
  "kernelspec": {
   "display_name": "Python 3.9.10 64-bit (windows store)",
   "language": "python",
   "name": "python3"
  },
  "language_info": {
   "codemirror_mode": {
    "name": "ipython",
    "version": 3
   },
   "file_extension": ".py",
   "mimetype": "text/x-python",
   "name": "python",
   "nbconvert_exporter": "python",
   "pygments_lexer": "ipython3",
   "version": "3.9.10"
  },
  "orig_nbformat": 4
 },
 "nbformat": 4,
 "nbformat_minor": 2
}
