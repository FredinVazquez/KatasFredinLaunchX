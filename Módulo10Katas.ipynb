{
 "cells": [
  {
   "cell_type": "markdown",
   "metadata": {},
   "source": [
    "# Módulo 10"
   ]
  },
  {
   "cell_type": "markdown",
   "metadata": {},
   "source": [
    "> Manejo de excepciones y errores con el bloque try-except."
   ]
  },
  {
   "cell_type": "markdown",
   "metadata": {},
   "source": [
    "## _Contexto de la misión_\n",
    "Se deberá de construir un programa capaz de leer archivos para una configuración adecuada, de modo que la lectura del archivo podrá generar errores durante el programa.\n",
    "\n",
    "### Uso de Tracebacks\n",
    "Es un bloque de código que apunta en el origen y al final de un error no controlado, esto con el fin de controlar los errores de una forma más adecuada para evitar que aparezcan en pantalla.\n",
    "\n",
    "### Ejercicio 1: intentar abrir un archivo no existente en un notebook:"
   ]
  },
  {
   "cell_type": "code",
   "execution_count": 82,
   "metadata": {},
   "outputs": [
    {
     "ename": "FileNotFoundError",
     "evalue": "[Errno 2] No such file or directory: '/path/to/mars.jpg'",
     "output_type": "error",
     "traceback": [
      "\u001b[1;31m---------------------------------------------------------------------------\u001b[0m",
      "\u001b[1;31mFileNotFoundError\u001b[0m                         Traceback (most recent call last)",
      "\u001b[1;32mc:\\Users\\USER\\Documents\\Cuarto semestre\\Microsoft\\Repositorios\\KatasFredinLaunchX\\Módulo10Katas.ipynb Cell 4'\u001b[0m in \u001b[0;36m<module>\u001b[1;34m\u001b[0m\n\u001b[1;32m----> <a href='vscode-notebook-cell:/c%3A/Users/USER/Documents/Cuarto%20semestre/Microsoft/Repositorios/KatasFredinLaunchX/M%C3%B3dulo10Katas.ipynb#ch0000006?line=0'>1</a>\u001b[0m \u001b[39mopen\u001b[39;49m(\u001b[39m\"\u001b[39;49m\u001b[39m/path/to/mars.jpg\u001b[39;49m\u001b[39m\"\u001b[39;49m)\n",
      "\u001b[1;31mFileNotFoundError\u001b[0m: [Errno 2] No such file or directory: '/path/to/mars.jpg'"
     ]
    }
   ],
   "source": [
    "open(\"/path/to/mars.jpg\")"
   ]
  },
  {
   "cell_type": "markdown",
   "metadata": {},
   "source": [
    "Lo obtenido al tratar de abrir un archivo no existente es un error, el nombre de la excepción que se genera es FileNotFoundError que nos dice que el archivo o el directorio no existe.\n",
    "\n",
    "Debido a la sintaxis de los errores que se generan es posible distinguir que incluyen la siguiente información:\n",
    "* Rutas de acceso implicadas.\n",
    "* Número de línea asociada a las rutas de acceso, donde se origina el error.\n",
    "* Nombre de funciones, métodos o clases asociados al suceso.\n",
    "* Nombre de la excepción que se produjo.\n",
    "\n",
    "### Manejo de excepciones\n",
    "El manejo de excepciones nace de la necesidad de comunicar mejor el error que ha ocurrido y no solo mostrar texto sin relevanción o texto que los usuarios no entienda, para esto es mejor manejar estos errores de modo que sea posible mostrar mejores mensajes que expliquen mejor lo que ha sucedido. Algo importante a comentar es que no siempre conviene manejar los errores, puesto que en ocasiones se puede dejar para que otros autores las traten.\n",
    "La forma de lograr el tratamiento de errores es usando el bloque de código try-except.\n",
    "\n",
    "### Bloques try-except\n",
    "El funcionamiento del bloque se resume en la siguiente sintaxis:\n",
    "    try:\n",
    "        instrucciones que pueden generar errores.\n",
    "    except nombre_error:\n",
    "        instrucciones a ejecutar en caso de obtener errores. \n"
   ]
  },
  {
   "cell_type": "code",
   "execution_count": null,
   "metadata": {},
   "outputs": [],
   "source": [
    "def main():\n",
    "    try:\n",
    "        open('config.txt')      # El archivo config no existe en el sistema.\n",
    "    except:\n",
    "        print('El archivo config.txt no fue encontrado')\n",
    "\n",
    "if __name__ == '__main__':\n",
    "    main()"
   ]
  },
  {
   "cell_type": "markdown",
   "metadata": {},
   "source": [
    "De modo que es posible de observar ya un cierto control sobre la excepción producida. En este caso al momento de mandar a llamar una función cuyas instrucciones sean para poder abrir archivos que no existen la excepción es FileNotFound, no obstante esta no sería la única excepción que se puede tener. Otro error sería que se intente abrir un archivo cuyo formato no conrresponde con lo específicado en código, el cual se llama IsADirectory. Esta excepción será llamada cuando en lugar de mandar a llamar a un archivo se manda a llamar a un directorio.\n",
    "\n",
    "En el ejercicio lo que se hará es agregar un directorio llamado config.txt con el objetivo de ver qué tipo de excepción se genera."
   ]
  },
  {
   "cell_type": "code",
   "execution_count": null,
   "metadata": {},
   "outputs": [
    {
     "name": "stdout",
     "output_type": "stream",
     "text": [
      "El archivo config.txt no fue encontrado\n"
     ]
    }
   ],
   "source": [
    "def main():\n",
    "    try:\n",
    "        open('config.txt')      # El archivo config no existe en el sistema.\n",
    "    except:\n",
    "        print('El archivo config.txt no fue encontrado')\n",
    "\n",
    "\n",
    "if __name__ == '__main__':\n",
    "    main()"
   ]
  },
  {
   "cell_type": "markdown",
   "metadata": {},
   "source": [
    "Entonces, en este caso ya se tiene que se trata de abrir un directorio y no un archivo lo cual genera la excepción llamada IsADictory, entonces es lo que se deberá de contemplar en este código:"
   ]
  },
  {
   "cell_type": "code",
   "execution_count": null,
   "metadata": {},
   "outputs": [
    {
     "name": "stdout",
     "output_type": "stream",
     "text": [
      "Fue encontrado config.txt, pero es un directorio.\n"
     ]
    }
   ],
   "source": [
    "def main():\n",
    "    try:\n",
    "        open('config.txt')      # El archivo config no existe en el sistema.\n",
    "    except FileNotFoundError:\n",
    "        print('El archivo config.txt no fue encontrado')\n",
    "    except PermissionError:     # Funcionó esta excepción en lugar de IsADirectory, supongo que es más general.\n",
    "        print('Fue encontrado config.txt, pero es un directorio.')\n",
    "\n",
    "if __name__ == '__main__':\n",
    "    main()"
   ]
  },
  {
   "cell_type": "markdown",
   "metadata": {},
   "source": [
    "### Excepciones de naturaleza similar\n",
    "Hay excepciones que bien al ser invocadas pueden mostrar el mismo mensaje puesto que son de naturaleza similar, no obstante no es recomendable agrupar tantos tipos de excepciones para realizar un manejo de mostrar el mismo mensaje lo cual se debe a que hace el código menos fácil de leer, y es que entender el código de otros y hacer que se entienda el nuestro es fundamental a la hora de estar en proyectos, además de que hace muy genérica el tratamiento de excepciones.\n",
    "\n",
    "En este caso, se tiene que suponer el caso en donde el sistema de navegación se sobrecarge de lecturas se tendrá que detectar dos excepciones juntos:\n",
    "* BlockingIOError  \n",
    "* TimeOutError\n",
    "\n",
    "El modo de detectar a ambos será usando paréntesis después de la palabra _except_."
   ]
  },
  {
   "cell_type": "code",
   "execution_count": null,
   "metadata": {},
   "outputs": [],
   "source": [
    "def main():\n",
    "    try:\n",
    "        open('config.txt')      # El archivo config no existe en el sistema.\n",
    "    except FileNotFoundError:\n",
    "        print('El archivo config.txt no fue encontrado')\n",
    "    except PermissionError:     # Funcionó esta excepción en lugar de IsADirectory, supongo que es más general.\n",
    "        print('Fue encontrado config.txt, pero es un directorio.')\n",
    "    except (BlockingIOError, TimeoutError):\n",
    "        print('El sistema de navegación ha detectado un archivo muy pesado para hacer la lectura, no puede completa la lectura de esta configuración.')\n",
    "\n",
    "if __name__ == '__main__':\n",
    "    main()"
   ]
  },
  {
   "cell_type": "markdown",
   "metadata": {},
   "source": [
    "### Uso de _as_\n",
    "Este es una palabra clave para poder manejar a la excepción de forma independiente, tenerlo como un elemento más. Gracias a esto se puede acceder al error asociado. \n",
    "El uso de esta palabra clave es a la hora de tener una mensaje de la excepción demasiada genérica, por lo cual resulta más útil poner un mensaje de error más detallado.\n",
    "\n",
    "Su syntaxis es:\n",
    "except nombre_excepcion as err:\n",
    "De forma que _err_ se convierte en una variable que estará conteniendo a la excepción, y así poder también manipularla."
   ]
  },
  {
   "cell_type": "code",
   "execution_count": null,
   "metadata": {},
   "outputs": [],
   "source": [
    "try:\n",
    "    open('mars.jpg')\n",
    "except FileNotFoundError as err:\n",
    "    print(\"El archivo no encontrado posiblemente es: \",err)"
   ]
  },
  {
   "cell_type": "markdown",
   "metadata": {},
   "source": [
    "Algo que se debe de tener en cuenta es que existe una jerarquía de excepciones, de modo que van a existir excepciones más genéricas y otras más específicas por lo cual al tener excepciones más genéricas es posible con la palabra clave acceder a los atributos del error.\n",
    "En este caso será usado la excepción OSError es una excepción genérica que tiene como excepciones principales a las anteriores: FileNotFoundError and IsADirectory.\n",
    "Estas serán posibles de diferenciar por medio del atributo **.errno**:\n",
    "> Al parecer el atributo asociado para la excepción _FileNotFoundError_ es 2 y para _IsADirectory_ es 13."
   ]
  },
  {
   "cell_type": "code",
   "execution_count": null,
   "metadata": {},
   "outputs": [],
   "source": [
    "try:\n",
    "    open('mars.jpg')\n",
    "except OSError as err:\n",
    "    if err.errno==2:\n",
    "        print(\"El archivo no fue encontrado.\")\n",
    "    elif err.errno==13:\n",
    "        print(\"No se tiene los permisos necesario para hacer la lectura.\")"
   ]
  },
  {
   "cell_type": "markdown",
   "metadata": {},
   "source": [
    "_**Algo a recordar es usar siempre la técnica para la ocasión adecuada, de modo que produzca la mejor visibilidad en el código posible.**_\n",
    "\n",
    "\n",
    "## Generar excepciones propias - personalizadas\n",
    "Generar una excepción propia puede ayudar a hacer entender mejor el error producido así como tomar una decisión al momento que se está ejecutan el código, ya sea para mostrar una cosau otra.\n",
    "\n",
    "La actividad a desarrollar será con base a alguna cantidad _n_ de astronautas y su consumo de agua, ahora se deberá de hacer un programa que pueda calcular con los días, cantidad de astronautas y la cantidad de agua disponible que se tiene duracte el viaje con la finalidad de saber si habrá una buena convertura de esta necesidad o habrá un incoveniente por falta de agua. Se tiene en cuenta que cada astronauta consume al día 11 litros de agua, por lo cual se tendrá que multiplicar por la cantidad de días que durará dicho viaje y finalmente restar con la cantidad de agua que se tiene actualmente."
   ]
  },
  {
   "cell_type": "code",
   "execution_count": 90,
   "metadata": {},
   "outputs": [],
   "source": [
    "def agua_restante(dias,astronautas,cantidadAgua):\n",
    "    aguaUsar = (astronautas*11)*dias\n",
    "    cantidadAgua-=aguaUsar\n",
    "    return f\"La cantidad de agua restante después de {dias} dias es: {cantidadAgua} litros.\"\n"
   ]
  },
  {
   "cell_type": "markdown",
   "metadata": {},
   "source": [
    "Todo esto estaría funcionando bien, sino fuera por el hecho que esta función puede regresar valores negativos lo cual no nos sería de utilidad debido a que ahí se necesitaría realmente un mensaje de alerta por la cantidad de agua requerida."
   ]
  },
  {
   "cell_type": "code",
   "execution_count": 91,
   "metadata": {},
   "outputs": [
    {
     "name": "stdout",
     "output_type": "stream",
     "text": [
      "La cantidad de agua restante después de 2 dias es: -10 litros.\n"
     ]
    }
   ],
   "source": [
    "print(agua_restante(2,5,100))"
   ]
  },
  {
   "cell_type": "markdown",
   "metadata": {},
   "source": [
    "Entonces, lo mejor sería crear una excepción de modo que al momento de obtener valores negativos se tendrá que contemplar eso como un error para poder ejecutar un mensaje indicando que la cantidad de agua a llevar no es suficiente.\n",
    "Para lograr esto se hará uso de la palabra clave raise:\n",
    "> Nota: La palabra clave de araise de Python se utiliza para generar excepciones o errores. La palabra clave raise genera un error y detiene el flujo de control del programa. "
   ]
  },
  {
   "cell_type": "code",
   "execution_count": 95,
   "metadata": {},
   "outputs": [],
   "source": [
    "def agua_restante(dias,astronautas,cantidadAgua):\n",
    "    aguaUsar = (astronautas*11)*dias\n",
    "    cantidadAgua-=aguaUsar\n",
    "    if cantidadAgua < 0:\n",
    "        raise RuntimeError(f\"No hay agua suficiente para {astronautas} astronautas durante {dias} dias.\")\n",
    "    return f\"La cantidad de agua restante después de {dias} dias es: {cantidadAgua} litros.\""
   ]
  },
  {
   "cell_type": "markdown",
   "metadata": {},
   "source": [
    "Una vez que la excepción fue generada es posible meter la función a un bloque try-except:"
   ]
  },
  {
   "cell_type": "code",
   "execution_count": 97,
   "metadata": {},
   "outputs": [
    {
     "name": "stdout",
     "output_type": "stream",
     "text": [
      "No hay agua suficiente para 5 astronautas durante 2 dias.\n"
     ]
    }
   ],
   "source": [
    "try:\n",
    "    print(agua_restante(2,5,100))       # -> Parte del código que puede generar errores.\n",
    "except RuntimeError as err:\n",
    "    print(err)"
   ]
  },
  {
   "cell_type": "markdown",
   "metadata": {},
   "source": [
    "Otra actualización que se puede hacer a la función es para que no admita valores diferentes de enteros, o decimales en caso del agua.\n",
    "\n",
    "Para hacer lo anterior se tendrá que comprobar realmente que los valores introducidos corresponden a valores de numéricos y no otro tipo de valores, una forma de hacer esto sería por medio de una división, no podríamos utilizar .isnumeric debido a que no estamos manejando candenas. Entonces, siguiendo la estrategía de la división esta corresponde que en caso de que sea posible hacer una división entonces se está enfrente de un número, en caso contrario se tiene algo diferente de un número.\n",
    "La excepción a utilizar será TypeError."
   ]
  },
  {
   "cell_type": "code",
   "execution_count": null,
   "metadata": {},
   "outputs": [],
   "source": [
    "def agua_restante(dias,astronautas,cantidadAgua):\n",
    "    for a in [dias,astronautas,cantidadAgua]:        # Se toma como una lista.\n",
    "        try:\n",
    "            a/10\n",
    "        except:\n",
    "            raise TypeError(f\"El elemento {a} es de tipo {type(a)}, por lo cual no es valido para hacer la operación.\")\n",
    "    # En caso de salir del ciclo es porque todos son números.\n",
    "    aguaUsar = (astronautas*11)*dias\n",
    "    cantidadAgua-=aguaUsar\n",
    "    if cantidadAgua < 0:\n",
    "        raise RuntimeError(f\"No hay agua suficiente para {astronautas} astronautas para {dias} dias.\")\n",
    "    return f\"La cantidad de agua restante después de {dias} dias es: {cantidadAgua} litros.\""
   ]
  },
  {
   "cell_type": "markdown",
   "metadata": {},
   "source": [
    "Finalmente se manda a llamar para la comprobación:"
   ]
  },
  {
   "cell_type": "code",
   "execution_count": null,
   "metadata": {},
   "outputs": [
    {
     "name": "stdout",
     "output_type": "stream",
     "text": [
      "El elemento None es de tipo <class 'NoneType'>, por lo cual no es valido para hacer la operación.\n"
     ]
    }
   ],
   "source": [
    "try:\n",
    "    print(agua_restante(5,100,None))       # -> Parte del código que puede generar errores.\n",
    "except (RuntimeError, TypeError) as err:    # Lo adjunto debido a que como cada quien tiene su propia excepción y una es antes que otra eso hace que uno detenga el flujo antes que otro.\n",
    "    print(err)"
   ]
  }
 ],
 "metadata": {
  "interpreter": {
   "hash": "f0a8ca1b1324573d7b9c7247f92177669f6f55c0b2d917412ca0894f2d26eb46"
  },
  "kernelspec": {
   "display_name": "Python 3.9.10 64-bit (windows store)",
   "language": "python",
   "name": "python3"
  },
  "language_info": {
   "codemirror_mode": {
    "name": "ipython",
    "version": 3
   },
   "file_extension": ".py",
   "mimetype": "text/x-python",
   "name": "python",
   "nbconvert_exporter": "python",
   "pygments_lexer": "ipython3",
   "version": "3.9.10"
  },
  "orig_nbformat": 4
 },
 "nbformat": 4,
 "nbformat_minor": 2
}
